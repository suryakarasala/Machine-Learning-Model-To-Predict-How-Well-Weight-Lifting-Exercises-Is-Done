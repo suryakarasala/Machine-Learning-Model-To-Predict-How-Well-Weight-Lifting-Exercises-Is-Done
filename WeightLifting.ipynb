{
    "cells": [
        {
            "metadata": {},
            "cell_type": "markdown",
            "source": "# Machine Learning Project - Building a Machine Learning Model To Predict How Well Weight Lifting Exercises Is Done\n\n### Surya Prakash Karasala\n\n## Abstract\nThe project uses data from the Weight Lifting Exercises (WLE) Dataset (see http://groupware.les.inf.puc-rio.br/har and also the References section below.) According to the WLE website, six participants were asked to perform one set of 10 repetitions of the Unilateral Dumbbell Biceps Curl in five different fashions, identified as classes A, B, C, D and E. Class A corresponds to a correct execution of the exercise, and the remaining five classes identify common mistakes in this weight lifting exercise. Several sensors were used to collect data about the quality of the exercise execution. The goal of this project is to obtain a prediction algorithm that takes such a set of sensor readings and correctly predicts the corresponding class (A to E).\nThe following analysis uses a random forest prediction algorithm to accomplish this task, after some data cleaning. The results of the analysis confirm that the model provided by this algorithm achieves a high prediction accuracy (as indicated by several prediction quality indicators).\n\n\n## Project Methodology and Code for the Analysis.\n### Data File Loading and Initial Data Exploration.\nThe project assignment includes two data files (in csv format), that can be downloaded from these links:\n1.\tTraining data: pml-training.csv.\n2.\tTesting data: pml-testing.csv.\nThe following code assumes that these data files are located in your R working directory. The pml-training.csv file contains both sensor data and execution type data, but the pml-testing.csv file does not contain execution type data. As an additional part of the assignment, we have to use the prediction algorithm trained on the data from the pml-testing.csv file, in order to predict the execution type for the data in the pml-testing.csv file.\nIn this assignment there is no codebook for the data files. However, relevant information can be obtained from the sources cited in the references. In particular, we know that four types of sensors were used in the experiment, and we will see below that this is reflected in the names of many of the variables in the data set.\nLet us begin by reading the pml-training.csv file into R. An initial inspection of the data file (using e.g. a text editor or a spreadsheet program) shows that:\n1.\tThe data columns in the file are separated by commas.\n2.\tThere are many missing values. These missing values come in two versions: the usual NA value, but also as values of the form \u201c#DIV/0!\u201d (this is probably the result of an attempt to divide by zero in a spreadsheet).\n3.\tThe header line contains the names of the variables in the data set.\n4.\tThe first column is not really a variable, it just contains the row number.\nTaking all that into account, we read the csv into a data frame in R as follows\n\n### Load the data\n\n"
        },
        {
            "metadata": {},
            "cell_type": "code",
            "source": "training <- read.csv(\"https://d396qusza40orc.cloudfront.net/predmachlearn/pml-training.csv\")\ntesting <-read.csv(\"https://d396qusza40orc.cloudfront.net/predmachlearn/pml-testing.csv\")",
            "execution_count": 27,
            "outputs": []
        },
        {
            "metadata": {},
            "cell_type": "markdown",
            "source": "### Step 1: Clean data\n\n#### In training and testing set, remove columns which are all NA (since we cannot get any prediction value from them)"
        },
        {
            "metadata": {},
            "cell_type": "code",
            "source": "library(dplyr)\nlibrary(stats)\nlibrary(base)\n# keep the same columns in training & testing set\ntesting<-testing[,colSums(is.na(testing))<nrow(testing)]\nli<-c(colnames(testing)[1:59],\"classe\")\ntraining<-training %>% select(li)\nrm(li)",
            "execution_count": 33,
            "outputs": []
        },
        {
            "metadata": {},
            "cell_type": "markdown",
            "source": "#### Find columns which contain missing values"
        },
        {
            "metadata": {},
            "cell_type": "code",
            "source": "colnames(training)[colSums(is.na(training))>0]",
            "execution_count": 34,
            "outputs": [
                {
                    "output_type": "display_data",
                    "data": {
                        "text/html": "",
                        "text/markdown": "",
                        "text/latex": "",
                        "text/plain": "character(0)"
                    },
                    "metadata": {}
                }
            ]
        },
        {
            "metadata": {},
            "cell_type": "markdown",
            "source": "#### Find how many NAs are in these columns"
        },
        {
            "metadata": {},
            "cell_type": "code",
            "source": "sum(is.na(training$magnet_dumbbell_z))\nsum(is.na(training$magnet_forearm_y))\nsum(is.na(training$magnet_forearm_z))",
            "execution_count": 35,
            "outputs": [
                {
                    "output_type": "display_data",
                    "data": {
                        "text/html": "0",
                        "text/markdown": "0",
                        "text/latex": "0",
                        "text/plain": "[1] 0"
                    },
                    "metadata": {}
                },
                {
                    "output_type": "display_data",
                    "data": {
                        "text/html": "0",
                        "text/markdown": "0",
                        "text/latex": "0",
                        "text/plain": "[1] 0"
                    },
                    "metadata": {}
                },
                {
                    "output_type": "display_data",
                    "data": {
                        "text/html": "0",
                        "text/markdown": "0",
                        "text/latex": "0",
                        "text/plain": "[1] 0"
                    },
                    "metadata": {}
                }
            ]
        },
        {
            "metadata": {},
            "cell_type": "markdown",
            "source": "#### Find row index for the NA rows"
        },
        {
            "metadata": {},
            "cell_type": "code",
            "source": "which(is.na(training),arr.ind=TRUE)",
            "execution_count": 36,
            "outputs": [
                {
                    "output_type": "display_data",
                    "data": {
                        "text/html": "<table>\n<thead><tr><th scope=col>row</th><th scope=col>col</th></tr></thead>\n<tbody>\n</tbody>\n</table>\n",
                        "text/markdown": "\n| row | col |\n|---|---|\n\n",
                        "text/latex": "\\begin{tabular}{ll}\n row & col\\\\\n\\hline\n\\end{tabular}\n",
                        "text/plain": "     row col"
                    },
                    "metadata": {}
                }
            ]
        },
        {
            "metadata": {},
            "cell_type": "code",
            "source": "dim(training)",
            "execution_count": 37,
            "outputs": [
                {
                    "output_type": "display_data",
                    "data": {
                        "text/html": "<ol class=list-inline>\n\t<li>19622</li>\n\t<li>60</li>\n</ol>\n",
                        "text/markdown": "1. 19622\n2. 60\n\n\n",
                        "text/latex": "\\begin{enumerate*}\n\\item 19622\n\\item 60\n\\end{enumerate*}\n",
                        "text/plain": "[1] 19622    60"
                    },
                    "metadata": {}
                }
            ]
        },
        {
            "metadata": {},
            "cell_type": "markdown",
            "source": "#### Find out data type for each column, and only select numeric columns to build the model\n"
        },
        {
            "metadata": {},
            "cell_type": "code",
            "source": "numeric<-lapply(training,is.numeric)\n# add a column for classe variable\nnumeric$classe<-TRUE\n# remove non-numeric columns\nnumeric$X1<-FALSE\nnumeric$user_name<-FALSE\nnumeric$raw_timestamp_part_1<-FALSE\nnumeric$raw_timestamp_part_2<-FALSE\nnumeric$cvtd_timestamp<-FALSE\nnumeric$num_window<-FALSE\nnumericCol<-unlist(numeric)\ntraining<-training[,numericCol]\ntesting<-testing[,numericCol]\ncolnames(testing)[53]<-\"classe\"\nrm(numeric)",
            "execution_count": 38,
            "outputs": []
        },
        {
            "metadata": {},
            "cell_type": "markdown",
            "source": "### Step 2: split the training set into a sub-training (70%) and testing(30%) set"
        },
        {
            "metadata": {},
            "cell_type": "code",
            "source": "library(caret)\nlibrary(lattice)\nlibrary(ggplot2)\nset.seed(1)\ninTrain<-createDataPartition(y=training$classe,p=0.7,list=FALSE)\ntraining_sub<-training[inTrain,]\ntesting_sub<-training[-inTrain,]",
            "execution_count": 39,
            "outputs": []
        },
        {
            "metadata": {},
            "cell_type": "markdown",
            "source": "### Step 3: build model on Training the Predictor.\nWe will use the randomForest function (in the randomForest package) to fit the predictor to the training set. In the computer used for this analysis (see the Notes section below for details) the default number of trees (500) gives a reasonable tradeoff between training time and accuracy. In more powerful machines that number can be increased for (slightly) better predictions."
        },
        {
            "metadata": {},
            "cell_type": "code",
            "source": "library(ggplot2)\nlibrary(dplyr)\nlibrary(randomForest)\n#rfNews()\n\ntime1 = proc.time()\n(randForest = randomForest(classe~., data=training, ntree = 500))",
            "execution_count": 44,
            "outputs": [
                {
                    "output_type": "display_data",
                    "data": {
                        "text/plain": "\nCall:\n randomForest(formula = classe ~ ., data = training, ntree = 500) \n               Type of random forest: classification\n                     Number of trees: 500\nNo. of variables tried at each split: 7\n\n        OOB estimate of  error rate: 0.01%\nConfusion matrix:\n     A    B    C    D    E  class.error\nA 5580    0    0    0    0 0.0000000000\nB    1 3796    0    0    0 0.0002633658\nC    0    0 3422    0    0 0.0000000000\nD    0    0    0 3216    0 0.0000000000\nE    0    0    0    0 3607 0.0000000000"
                    },
                    "metadata": {}
                }
            ]
        },
        {
            "metadata": {},
            "cell_type": "code",
            "source": "time2 = proc.time()\n(time = time2 - time1)",
            "execution_count": 45,
            "outputs": [
                {
                    "output_type": "display_data",
                    "data": {
                        "text/plain": "   user  system elapsed \n 47.112   0.612  47.729 "
                    },
                    "metadata": {}
                }
            ]
        },
        {
            "metadata": {},
            "cell_type": "markdown",
            "source": "As the above results show, the resulting predictor has a quite low OOB (out-of-bag) error estimate. The confusion matrix for the training set indicates that the predictor is accurate on that set.\n\n#### Applying the Model to the Testing Subsample.\nAfter training the predictor we use it on the testing subsample we constructed before, to get an estimate of its out of sample error."
        },
        {
            "metadata": {},
            "cell_type": "code",
            "source": "predictionTesting = predict(randForest, newdata = testing_sub)",
            "execution_count": 46,
            "outputs": []
        },
        {
            "metadata": {},
            "cell_type": "markdown",
            "source": "The error estimate can be obtained with the confusionMatrix function of the caret package:"
        },
        {
            "metadata": {},
            "cell_type": "code",
            "source": "library(caret)\ninstall.packages('e1071', dependencies=TRUE)\nconfusionMatrix(predictionTesting, testing_sub$classe)",
            "execution_count": 47,
            "outputs": [
                {
                    "output_type": "stream",
                    "text": "Updating HTML index of packages in '.Library'\nMaking 'packages.html' ... done\n",
                    "name": "stderr"
                },
                {
                    "output_type": "display_data",
                    "data": {
                        "text/plain": "Confusion Matrix and Statistics\n\n          Reference\nPrediction    A    B    C    D    E\n         A 1674    0    0    0    0\n         B    0 1139    0    0    0\n         C    0    0 1026    0    0\n         D    0    0    0  964    0\n         E    0    0    0    0 1082\n\nOverall Statistics\n                                     \n               Accuracy : 1          \n                 95% CI : (0.9994, 1)\n    No Information Rate : 0.2845     \n    P-Value [Acc > NIR] : < 2.2e-16  \n                                     \n                  Kappa : 1          \n                                     \n Mcnemar's Test P-Value : NA         \n\nStatistics by Class:\n\n                     Class: A Class: B Class: C Class: D Class: E\nSensitivity            1.0000   1.0000   1.0000   1.0000   1.0000\nSpecificity            1.0000   1.0000   1.0000   1.0000   1.0000\nPos Pred Value         1.0000   1.0000   1.0000   1.0000   1.0000\nNeg Pred Value         1.0000   1.0000   1.0000   1.0000   1.0000\nPrevalence             0.2845   0.1935   0.1743   0.1638   0.1839\nDetection Rate         0.2845   0.1935   0.1743   0.1638   0.1839\nDetection Prevalence   0.2845   0.1935   0.1743   0.1638   0.1839\nBalanced Accuracy      1.0000   1.0000   1.0000   1.0000   1.0000"
                    },
                    "metadata": {}
                }
            ]
        },
        {
            "metadata": {},
            "cell_type": "markdown",
            "source": "Both the accuracy and the Cohen\u2019s kappa indicator of concordance indicate that the predictor seems to have a low out of sample error rate."
        },
        {
            "metadata": {},
            "cell_type": "code",
            "source": "varImpPlot(randForest)",
            "execution_count": 48,
            "outputs": [
                {
                    "output_type": "display_data",
                    "data": {
                        "text/plain": "Plot with title \u201crandForest\u201d",
                        "image/png": "[encoded data removed]"
                    },
                    "metadata": {}
                }
            ]
        },
        {
            "metadata": {},
            "cell_type": "markdown",
            "source": "While random forests are not easily interpretable predictors, the variable importance analysis offers at least some insight into the model. But if we were to use PCA, even this would be obscured. Therefore, I decided to keep the predictor based in the original variables. Fine tuning of the model performance based on that importance classification could be considered, if the model is to be implemented in a production setting.\n\nR version and System information for this analysis:"
        },
        {
            "metadata": {},
            "cell_type": "code",
            "source": "Sys.info()[1:2]",
            "execution_count": 49,
            "outputs": [
                {
                    "output_type": "display_data",
                    "data": {
                        "text/html": "<dl class=dl-horizontal>\n\t<dt>sysname</dt>\n\t\t<dd>'Linux'</dd>\n\t<dt>release</dt>\n\t\t<dd>'4.4.0-201-generic'</dd>\n</dl>\n",
                        "text/markdown": "sysname\n:   'Linux'release\n:   '4.4.0-201-generic'\n\n",
                        "text/latex": "\\begin{description*}\n\\item[sysname] 'Linux'\n\\item[release] '4.4.0-201-generic'\n\\end{description*}\n",
                        "text/plain": "            sysname             release \n            \"Linux\" \"4.4.0-201-generic\" "
                    },
                    "metadata": {}
                }
            ]
        },
        {
            "metadata": {},
            "cell_type": "code",
            "source": "R.version.string",
            "execution_count": 50,
            "outputs": [
                {
                    "output_type": "display_data",
                    "data": {
                        "text/html": "'R version 3.6.1 (2019-07-05)'",
                        "text/markdown": "'R version 3.6.1 (2019-07-05)'",
                        "text/latex": "'R version 3.6.1 (2019-07-05)'",
                        "text/plain": "[1] \"R version 3.6.1 (2019-07-05)\""
                    },
                    "metadata": {}
                }
            ]
        },
        {
            "metadata": {},
            "cell_type": "markdown",
            "source": "As an additional prediction test, the predictor constructed here was used for the Prediction part of this Assignment, for the data in the pml-testing.csv file, and 20 out 20 cases were correctly predicted.\n"
        },
        {
            "metadata": {},
            "cell_type": "code",
            "source": "",
            "execution_count": null,
            "outputs": []
        }
    ],
    "metadata": {
        "kernelspec": {
            "name": "r-3.6",
            "display_name": "R 3.6",
            "language": "R"
        },
        "language_info": {
            "name": "R",
            "codemirror_mode": "r",
            "pygments_lexer": "r",
            "mimetype": "text/x-r-source",
            "file_extension": ".r",
            "version": "3.6.1"
        }
    },
    "nbformat": 4,
    "nbformat_minor": 1
}